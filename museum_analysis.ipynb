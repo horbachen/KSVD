{
 "cells": [
  {
   "cell_type": "code",
   "execution_count": 1,
   "id": "7c76569c-5ad4-4722-8758-05a20046a625",
   "metadata": {
    "tags": []
   },
   "outputs": [],
   "source": [
    "import pandas as pd\n",
    "import numpy as np \n",
    "import seaborn as sns\n",
    "from matplotlib import pyplot as plt\n",
    "#plt.style.use('ggplot')\n",
    "plt.style.use('dark_background')"
   ]
  },
  {
   "cell_type": "code",
   "execution_count": 118,
   "id": "96014c6c-3c00-48da-a503-8efc0a10923f",
   "metadata": {
    "tags": []
   },
   "outputs": [],
   "source": [
    "df = pd.read_csv('C:/Users/tuf/Downloads/museum_visitors.csv')"
   ]
  },
  {
   "cell_type": "code",
   "execution_count": 78,
   "id": "08fc1feb-3571-45fa-909a-0f0c76f621a3",
   "metadata": {
    "tags": []
   },
   "outputs": [
    {
     "data": {
      "text/plain": [
       "0     2014-01-01\n",
       "1     2014-02-01\n",
       "2     2014-03-01\n",
       "3     2014-04-01\n",
       "4     2014-05-01\n",
       "5     2014-06-01\n",
       "6     2014-07-01\n",
       "7     2014-08-01\n",
       "8     2014-09-01\n",
       "9     2014-10-01\n",
       "10    2014-11-01\n",
       "11    2014-12-01\n",
       "12    2015-01-01\n",
       "13    2015-02-01\n",
       "14    2015-03-01\n",
       "15    2015-04-01\n",
       "16    2015-05-01\n",
       "17    2015-06-01\n",
       "18    2015-07-01\n",
       "19    2015-08-01\n",
       "20    2015-09-01\n",
       "21    2015-10-01\n",
       "22    2015-11-01\n",
       "23    2015-12-01\n",
       "24    2016-01-01\n",
       "25    2016-02-01\n",
       "26    2016-03-01\n",
       "27    2016-04-01\n",
       "28    2016-05-01\n",
       "29    2016-06-01\n",
       "30    2016-07-01\n",
       "31    2016-08-01\n",
       "32    2016-09-01\n",
       "33    2016-10-01\n",
       "34    2016-11-01\n",
       "35    2016-12-01\n",
       "36    2017-01-01\n",
       "37    2017-02-01\n",
       "38    2017-03-01\n",
       "39    2017-04-01\n",
       "40    2017-05-01\n",
       "41    2017-06-01\n",
       "42    2017-07-01\n",
       "43    2017-08-01\n",
       "44    2017-09-01\n",
       "45    2017-10-01\n",
       "46    2017-11-01\n",
       "47    2017-12-01\n",
       "48    2018-01-01\n",
       "49    2018-02-01\n",
       "50    2018-03-01\n",
       "51    2018-04-01\n",
       "52    2018-05-01\n",
       "53    2018-06-01\n",
       "54    2018-07-01\n",
       "55    2018-08-01\n",
       "56    2018-09-01\n",
       "57    2018-10-01\n",
       "58    2018-11-01\n",
       "Name: Date, dtype: object"
      ]
     },
     "execution_count": 78,
     "metadata": {},
     "output_type": "execute_result"
    }
   ],
   "source": [
    "df.Date"
   ]
  },
  {
   "cell_type": "code",
   "execution_count": 79,
   "id": "57502353-e839-4023-94fa-d78ecda4be1e",
   "metadata": {
    "tags": []
   },
   "outputs": [
    {
     "data": {
      "text/html": [
       "<div>\n",
       "<style scoped>\n",
       "    .dataframe tbody tr th:only-of-type {\n",
       "        vertical-align: middle;\n",
       "    }\n",
       "\n",
       "    .dataframe tbody tr th {\n",
       "        vertical-align: top;\n",
       "    }\n",
       "\n",
       "    .dataframe thead th {\n",
       "        text-align: right;\n",
       "    }\n",
       "</style>\n",
       "<table border=\"1\" class=\"dataframe\">\n",
       "  <thead>\n",
       "    <tr style=\"text-align: right;\">\n",
       "      <th></th>\n",
       "      <th>Date</th>\n",
       "      <th>Avila Adobe</th>\n",
       "      <th>Firehouse Museum</th>\n",
       "      <th>Chinese American Museum</th>\n",
       "      <th>America Tropical Interpretive Center</th>\n",
       "    </tr>\n",
       "  </thead>\n",
       "  <tbody>\n",
       "    <tr>\n",
       "      <th>0</th>\n",
       "      <td>2014-01-01</td>\n",
       "      <td>24778</td>\n",
       "      <td>4486</td>\n",
       "      <td>1581</td>\n",
       "      <td>6602</td>\n",
       "    </tr>\n",
       "    <tr>\n",
       "      <th>1</th>\n",
       "      <td>2014-02-01</td>\n",
       "      <td>18976</td>\n",
       "      <td>4172</td>\n",
       "      <td>1785</td>\n",
       "      <td>5029</td>\n",
       "    </tr>\n",
       "    <tr>\n",
       "      <th>2</th>\n",
       "      <td>2014-03-01</td>\n",
       "      <td>25231</td>\n",
       "      <td>7082</td>\n",
       "      <td>3229</td>\n",
       "      <td>8129</td>\n",
       "    </tr>\n",
       "    <tr>\n",
       "      <th>3</th>\n",
       "      <td>2014-04-01</td>\n",
       "      <td>26989</td>\n",
       "      <td>6756</td>\n",
       "      <td>2129</td>\n",
       "      <td>2824</td>\n",
       "    </tr>\n",
       "    <tr>\n",
       "      <th>4</th>\n",
       "      <td>2014-05-01</td>\n",
       "      <td>36883</td>\n",
       "      <td>10858</td>\n",
       "      <td>3676</td>\n",
       "      <td>10694</td>\n",
       "    </tr>\n",
       "  </tbody>\n",
       "</table>\n",
       "</div>"
      ],
      "text/plain": [
       "         Date  Avila Adobe  Firehouse Museum  Chinese American Museum  \\\n",
       "0  2014-01-01        24778              4486                     1581   \n",
       "1  2014-02-01        18976              4172                     1785   \n",
       "2  2014-03-01        25231              7082                     3229   \n",
       "3  2014-04-01        26989              6756                     2129   \n",
       "4  2014-05-01        36883             10858                     3676   \n",
       "\n",
       "   America Tropical Interpretive Center  \n",
       "0                                  6602  \n",
       "1                                  5029  \n",
       "2                                  8129  \n",
       "3                                  2824  \n",
       "4                                 10694  "
      ]
     },
     "execution_count": 79,
     "metadata": {},
     "output_type": "execute_result"
    }
   ],
   "source": [
    "df.head()"
   ]
  },
  {
   "cell_type": "markdown",
   "id": "0fb38366-909c-4a4c-bc9b-1868ebde955a",
   "metadata": {
    "tags": []
   },
   "source": [
    "Провести попередній аналіз даних (визначити розмір датасету, тип даних, кількість пропусків). "
   ]
  },
  {
   "cell_type": "markdown",
   "id": "cc850dcb-968a-4847-8bf2-cfdfdd3a245a",
   "metadata": {},
   "source": [
    "Перш за все, зробимо колонки для зручності. Переведемо їх у нижній регістр та зробимо"
   ]
  },
  {
   "cell_type": "markdown",
   "id": "c1388f23-d7ca-4447-8227-e8c82e82c5e9",
   "metadata": {},
   "source": [
    "Змінити назви столбців. Замінити великі букви на маленьки, пробіли на підкреслення\n",
    "(date, avila_adobe, firehouse_museum, chinese_american_museum, america_tropical_interpretive_center). "
   ]
  },
  {
   "cell_type": "code",
   "execution_count": 120,
   "id": "1ea619b2-e8dd-4566-a486-ff037382b9a5",
   "metadata": {
    "tags": []
   },
   "outputs": [],
   "source": [
    "df.columns = df.columns.str.replace(' ','_').str.lower()"
   ]
  },
  {
   "cell_type": "code",
   "execution_count": 81,
   "id": "eee9a430-1862-48e5-bc87-bb55bb46d71c",
   "metadata": {
    "tags": []
   },
   "outputs": [
    {
     "data": {
      "text/html": [
       "<div>\n",
       "<style scoped>\n",
       "    .dataframe tbody tr th:only-of-type {\n",
       "        vertical-align: middle;\n",
       "    }\n",
       "\n",
       "    .dataframe tbody tr th {\n",
       "        vertical-align: top;\n",
       "    }\n",
       "\n",
       "    .dataframe thead th {\n",
       "        text-align: right;\n",
       "    }\n",
       "</style>\n",
       "<table border=\"1\" class=\"dataframe\">\n",
       "  <thead>\n",
       "    <tr style=\"text-align: right;\">\n",
       "      <th></th>\n",
       "      <th>date</th>\n",
       "      <th>avila_adobe</th>\n",
       "      <th>firehouse_museum</th>\n",
       "      <th>chinese_american_museum</th>\n",
       "      <th>america_tropical_interpretive_center</th>\n",
       "    </tr>\n",
       "  </thead>\n",
       "  <tbody>\n",
       "    <tr>\n",
       "      <th>0</th>\n",
       "      <td>2014-01-01</td>\n",
       "      <td>24778</td>\n",
       "      <td>4486</td>\n",
       "      <td>1581</td>\n",
       "      <td>6602</td>\n",
       "    </tr>\n",
       "    <tr>\n",
       "      <th>1</th>\n",
       "      <td>2014-02-01</td>\n",
       "      <td>18976</td>\n",
       "      <td>4172</td>\n",
       "      <td>1785</td>\n",
       "      <td>5029</td>\n",
       "    </tr>\n",
       "    <tr>\n",
       "      <th>2</th>\n",
       "      <td>2014-03-01</td>\n",
       "      <td>25231</td>\n",
       "      <td>7082</td>\n",
       "      <td>3229</td>\n",
       "      <td>8129</td>\n",
       "    </tr>\n",
       "    <tr>\n",
       "      <th>3</th>\n",
       "      <td>2014-04-01</td>\n",
       "      <td>26989</td>\n",
       "      <td>6756</td>\n",
       "      <td>2129</td>\n",
       "      <td>2824</td>\n",
       "    </tr>\n",
       "    <tr>\n",
       "      <th>4</th>\n",
       "      <td>2014-05-01</td>\n",
       "      <td>36883</td>\n",
       "      <td>10858</td>\n",
       "      <td>3676</td>\n",
       "      <td>10694</td>\n",
       "    </tr>\n",
       "  </tbody>\n",
       "</table>\n",
       "</div>"
      ],
      "text/plain": [
       "         date  avila_adobe  firehouse_museum  chinese_american_museum  \\\n",
       "0  2014-01-01        24778              4486                     1581   \n",
       "1  2014-02-01        18976              4172                     1785   \n",
       "2  2014-03-01        25231              7082                     3229   \n",
       "3  2014-04-01        26989              6756                     2129   \n",
       "4  2014-05-01        36883             10858                     3676   \n",
       "\n",
       "   america_tropical_interpretive_center  \n",
       "0                                  6602  \n",
       "1                                  5029  \n",
       "2                                  8129  \n",
       "3                                  2824  \n",
       "4                                 10694  "
      ]
     },
     "execution_count": 81,
     "metadata": {},
     "output_type": "execute_result"
    }
   ],
   "source": [
    "df.head()"
   ]
  },
  {
   "cell_type": "code",
   "execution_count": 82,
   "id": "37dcd326-04db-4cad-b43d-f985c7f042d5",
   "metadata": {
    "tags": []
   },
   "outputs": [
    {
     "data": {
      "text/plain": [
       "date                                    0.0\n",
       "avila_adobe                             0.0\n",
       "firehouse_museum                        0.0\n",
       "chinese_american_museum                 0.0\n",
       "america_tropical_interpretive_center    0.0\n",
       "dtype: float64"
      ]
     },
     "execution_count": 82,
     "metadata": {},
     "output_type": "execute_result"
    }
   ],
   "source": [
    "df.isna().mean()"
   ]
  },
  {
   "cell_type": "code",
   "execution_count": 83,
   "id": "63c4a829-5c77-4f7e-b512-9ba84912dbd0",
   "metadata": {
    "tags": []
   },
   "outputs": [
    {
     "data": {
      "text/plain": [
       "date                                    object\n",
       "avila_adobe                              int64\n",
       "firehouse_museum                         int64\n",
       "chinese_american_museum                  int64\n",
       "america_tropical_interpretive_center     int64\n",
       "dtype: object"
      ]
     },
     "execution_count": 83,
     "metadata": {},
     "output_type": "execute_result"
    }
   ],
   "source": [
    "df.dtypes"
   ]
  },
  {
   "cell_type": "code",
   "execution_count": 122,
   "id": "f67e9b88-f08f-4349-904c-643d87624aca",
   "metadata": {
    "tags": []
   },
   "outputs": [],
   "source": [
    "df['date'] = pd.to_datetime(df.date,format='%Y-%m-%d')"
   ]
  },
  {
   "cell_type": "code",
   "execution_count": 85,
   "id": "4bad200c-e5e3-407b-89df-68c3efd6bfbb",
   "metadata": {
    "tags": []
   },
   "outputs": [
    {
     "data": {
      "text/plain": [
       "date                                    datetime64[ns]\n",
       "avila_adobe                                      int64\n",
       "firehouse_museum                                 int64\n",
       "chinese_american_museum                          int64\n",
       "america_tropical_interpretive_center             int64\n",
       "dtype: object"
      ]
     },
     "execution_count": 85,
     "metadata": {},
     "output_type": "execute_result"
    }
   ],
   "source": [
    "df.dtypes"
   ]
  },
  {
   "cell_type": "code",
   "execution_count": 86,
   "id": "6a945062-3b3d-437e-9648-c06a3c7f623e",
   "metadata": {
    "tags": []
   },
   "outputs": [
    {
     "data": {
      "text/html": [
       "<div>\n",
       "<style scoped>\n",
       "    .dataframe tbody tr th:only-of-type {\n",
       "        vertical-align: middle;\n",
       "    }\n",
       "\n",
       "    .dataframe tbody tr th {\n",
       "        vertical-align: top;\n",
       "    }\n",
       "\n",
       "    .dataframe thead th {\n",
       "        text-align: right;\n",
       "    }\n",
       "</style>\n",
       "<table border=\"1\" class=\"dataframe\">\n",
       "  <thead>\n",
       "    <tr style=\"text-align: right;\">\n",
       "      <th></th>\n",
       "      <th>date</th>\n",
       "      <th>avila_adobe</th>\n",
       "      <th>firehouse_museum</th>\n",
       "      <th>chinese_american_museum</th>\n",
       "      <th>america_tropical_interpretive_center</th>\n",
       "    </tr>\n",
       "  </thead>\n",
       "  <tbody>\n",
       "    <tr>\n",
       "      <th>0</th>\n",
       "      <td>2014-01-01 00:01:00</td>\n",
       "      <td>24778</td>\n",
       "      <td>4486</td>\n",
       "      <td>1581</td>\n",
       "      <td>6602</td>\n",
       "    </tr>\n",
       "    <tr>\n",
       "      <th>1</th>\n",
       "      <td>2014-01-01 00:02:00</td>\n",
       "      <td>18976</td>\n",
       "      <td>4172</td>\n",
       "      <td>1785</td>\n",
       "      <td>5029</td>\n",
       "    </tr>\n",
       "    <tr>\n",
       "      <th>2</th>\n",
       "      <td>2014-01-01 00:03:00</td>\n",
       "      <td>25231</td>\n",
       "      <td>7082</td>\n",
       "      <td>3229</td>\n",
       "      <td>8129</td>\n",
       "    </tr>\n",
       "    <tr>\n",
       "      <th>3</th>\n",
       "      <td>2014-01-01 00:04:00</td>\n",
       "      <td>26989</td>\n",
       "      <td>6756</td>\n",
       "      <td>2129</td>\n",
       "      <td>2824</td>\n",
       "    </tr>\n",
       "    <tr>\n",
       "      <th>4</th>\n",
       "      <td>2014-01-01 00:05:00</td>\n",
       "      <td>36883</td>\n",
       "      <td>10858</td>\n",
       "      <td>3676</td>\n",
       "      <td>10694</td>\n",
       "    </tr>\n",
       "  </tbody>\n",
       "</table>\n",
       "</div>"
      ],
      "text/plain": [
       "                 date  avila_adobe  firehouse_museum  chinese_american_museum  \\\n",
       "0 2014-01-01 00:01:00        24778              4486                     1581   \n",
       "1 2014-01-01 00:02:00        18976              4172                     1785   \n",
       "2 2014-01-01 00:03:00        25231              7082                     3229   \n",
       "3 2014-01-01 00:04:00        26989              6756                     2129   \n",
       "4 2014-01-01 00:05:00        36883             10858                     3676   \n",
       "\n",
       "   america_tropical_interpretive_center  \n",
       "0                                  6602  \n",
       "1                                  5029  \n",
       "2                                  8129  \n",
       "3                                  2824  \n",
       "4                                 10694  "
      ]
     },
     "execution_count": 86,
     "metadata": {},
     "output_type": "execute_result"
    }
   ],
   "source": [
    "df.head()"
   ]
  },
  {
   "cell_type": "markdown",
   "id": "47590121-8026-4ede-a30b-3031aacfc8a5",
   "metadata": {},
   "source": [
    "Вивести перші 5 рядків датасету. "
   ]
  },
  {
   "cell_type": "code",
   "execution_count": 87,
   "id": "fb35a953-991a-4edd-90be-d07df8892fec",
   "metadata": {
    "tags": []
   },
   "outputs": [
    {
     "data": {
      "text/html": [
       "<div>\n",
       "<style scoped>\n",
       "    .dataframe tbody tr th:only-of-type {\n",
       "        vertical-align: middle;\n",
       "    }\n",
       "\n",
       "    .dataframe tbody tr th {\n",
       "        vertical-align: top;\n",
       "    }\n",
       "\n",
       "    .dataframe thead th {\n",
       "        text-align: right;\n",
       "    }\n",
       "</style>\n",
       "<table border=\"1\" class=\"dataframe\">\n",
       "  <thead>\n",
       "    <tr style=\"text-align: right;\">\n",
       "      <th></th>\n",
       "      <th>date</th>\n",
       "      <th>avila_adobe</th>\n",
       "      <th>firehouse_museum</th>\n",
       "      <th>chinese_american_museum</th>\n",
       "      <th>america_tropical_interpretive_center</th>\n",
       "    </tr>\n",
       "  </thead>\n",
       "  <tbody>\n",
       "    <tr>\n",
       "      <th>0</th>\n",
       "      <td>2014-01-01 00:01:00</td>\n",
       "      <td>24778</td>\n",
       "      <td>4486</td>\n",
       "      <td>1581</td>\n",
       "      <td>6602</td>\n",
       "    </tr>\n",
       "    <tr>\n",
       "      <th>1</th>\n",
       "      <td>2014-01-01 00:02:00</td>\n",
       "      <td>18976</td>\n",
       "      <td>4172</td>\n",
       "      <td>1785</td>\n",
       "      <td>5029</td>\n",
       "    </tr>\n",
       "    <tr>\n",
       "      <th>2</th>\n",
       "      <td>2014-01-01 00:03:00</td>\n",
       "      <td>25231</td>\n",
       "      <td>7082</td>\n",
       "      <td>3229</td>\n",
       "      <td>8129</td>\n",
       "    </tr>\n",
       "    <tr>\n",
       "      <th>3</th>\n",
       "      <td>2014-01-01 00:04:00</td>\n",
       "      <td>26989</td>\n",
       "      <td>6756</td>\n",
       "      <td>2129</td>\n",
       "      <td>2824</td>\n",
       "    </tr>\n",
       "    <tr>\n",
       "      <th>4</th>\n",
       "      <td>2014-01-01 00:05:00</td>\n",
       "      <td>36883</td>\n",
       "      <td>10858</td>\n",
       "      <td>3676</td>\n",
       "      <td>10694</td>\n",
       "    </tr>\n",
       "  </tbody>\n",
       "</table>\n",
       "</div>"
      ],
      "text/plain": [
       "                 date  avila_adobe  firehouse_museum  chinese_american_museum  \\\n",
       "0 2014-01-01 00:01:00        24778              4486                     1581   \n",
       "1 2014-01-01 00:02:00        18976              4172                     1785   \n",
       "2 2014-01-01 00:03:00        25231              7082                     3229   \n",
       "3 2014-01-01 00:04:00        26989              6756                     2129   \n",
       "4 2014-01-01 00:05:00        36883             10858                     3676   \n",
       "\n",
       "   america_tropical_interpretive_center  \n",
       "0                                  6602  \n",
       "1                                  5029  \n",
       "2                                  8129  \n",
       "3                                  2824  \n",
       "4                                 10694  "
      ]
     },
     "execution_count": 87,
     "metadata": {},
     "output_type": "execute_result"
    }
   ],
   "source": [
    "df.head(5)"
   ]
  },
  {
   "cell_type": "markdown",
   "id": "0a731ce0-52d7-411e-b079-0fd4eb026e06",
   "metadata": {},
   "source": [
    "Перевірити наявність дублікатів. Якщо є, видалити їх і вивести розмір таблиці (без дублікатів). "
   ]
  },
  {
   "cell_type": "code",
   "execution_count": 88,
   "id": "786c20fc-783f-4a82-8483-ced5e7d619c9",
   "metadata": {
    "tags": []
   },
   "outputs": [
    {
     "data": {
      "text/plain": [
       "0"
      ]
     },
     "execution_count": 88,
     "metadata": {},
     "output_type": "execute_result"
    }
   ],
   "source": [
    "df.duplicated().sum()\n",
    "#немає в наявності в нашої таблиці дублікатів"
   ]
  },
  {
   "cell_type": "markdown",
   "id": "7eef281e-a399-436d-99cc-375fede99c00",
   "metadata": {},
   "source": [
    "Про які роки містить інформацію датасет. "
   ]
  },
  {
   "cell_type": "markdown",
   "id": "d6bfda2d-dea8-44af-a1fd-03ff13f0e74e",
   "metadata": {},
   "source": [
    "для того щоб мати справу з датою, ми саме і перевели строку в формат дати, та явно прописали формат, щоб система не зчитала\n",
    "місяць як дату и навпаки."
   ]
  },
  {
   "cell_type": "code",
   "execution_count": 89,
   "id": "bc13a488-a8a9-4f50-b6ca-da435de027e0",
   "metadata": {
    "tags": []
   },
   "outputs": [
    {
     "data": {
      "text/plain": [
       "date\n",
       "2014    12\n",
       "2015    12\n",
       "2016    12\n",
       "2017    12\n",
       "2018    11\n",
       "Name: count, dtype: int64"
      ]
     },
     "execution_count": 89,
     "metadata": {},
     "output_type": "execute_result"
    }
   ],
   "source": [
    "df.date.dt.year.value_counts()\n",
    "#ми можеемо побачити що в наявності такі роки :"
   ]
  },
  {
   "cell_type": "markdown",
   "id": "54f5e3e4-27a4-4547-9b66-dcbcadb71d2b",
   "metadata": {},
   "source": [
    "Обчислити середню кількість відвідувачів для кожного музею протягом всього періоду. "
   ]
  },
  {
   "cell_type": "code",
   "execution_count": 125,
   "id": "c9062a89-7318-4569-8bc8-a4b0640ff945",
   "metadata": {
    "tags": []
   },
   "outputs": [],
   "source": [
    "#пропоную згрупуватися по рокам, а потім додати історію з кожного місяця\n",
    "df['year'] = df.date.dt.year"
   ]
  },
  {
   "cell_type": "code",
   "execution_count": 91,
   "id": "365fd252-8c93-4ad7-b82d-f3137819c38c",
   "metadata": {
    "tags": []
   },
   "outputs": [],
   "source": [
    "t = df.groupby('year')\\\n",
    ".agg({'avila_adobe':np.mean,'firehouse_museum':np.mean,'chinese_american_museum':np.mean,'america_tropical_interpretive_center':np.mean})"
   ]
  },
  {
   "cell_type": "code",
   "execution_count": 92,
   "id": "cd2c2752-b92c-48a4-b366-ec5040c7d229",
   "metadata": {
    "tags": []
   },
   "outputs": [
    {
     "data": {
      "text/html": [
       "<div>\n",
       "<style scoped>\n",
       "    .dataframe tbody tr th:only-of-type {\n",
       "        vertical-align: middle;\n",
       "    }\n",
       "\n",
       "    .dataframe tbody tr th {\n",
       "        vertical-align: top;\n",
       "    }\n",
       "\n",
       "    .dataframe thead th {\n",
       "        text-align: right;\n",
       "    }\n",
       "</style>\n",
       "<table border=\"1\" class=\"dataframe\">\n",
       "  <thead>\n",
       "    <tr style=\"text-align: right;\">\n",
       "      <th></th>\n",
       "      <th>avila_adobe</th>\n",
       "      <th>firehouse_museum</th>\n",
       "      <th>chinese_american_museum</th>\n",
       "      <th>america_tropical_interpretive_center</th>\n",
       "    </tr>\n",
       "    <tr>\n",
       "      <th>year</th>\n",
       "      <th></th>\n",
       "      <th></th>\n",
       "      <th></th>\n",
       "      <th></th>\n",
       "    </tr>\n",
       "  </thead>\n",
       "  <tbody>\n",
       "    <tr>\n",
       "      <th>2014</th>\n",
       "      <td>27776.250000</td>\n",
       "      <td>10778.166667</td>\n",
       "      <td>2108.666667</td>\n",
       "      <td>8076.416667</td>\n",
       "    </tr>\n",
       "    <tr>\n",
       "      <th>2015</th>\n",
       "      <td>26459.750000</td>\n",
       "      <td>6280.583333</td>\n",
       "      <td>2446.583333</td>\n",
       "      <td>9045.666667</td>\n",
       "    </tr>\n",
       "    <tr>\n",
       "      <th>2016</th>\n",
       "      <td>23398.666667</td>\n",
       "      <td>5386.083333</td>\n",
       "      <td>3107.000000</td>\n",
       "      <td>7201.833333</td>\n",
       "    </tr>\n",
       "    <tr>\n",
       "      <th>2017</th>\n",
       "      <td>22526.166667</td>\n",
       "      <td>5018.166667</td>\n",
       "      <td>3061.583333</td>\n",
       "      <td>6323.333333</td>\n",
       "    </tr>\n",
       "    <tr>\n",
       "      <th>2018</th>\n",
       "      <td>19791.636364</td>\n",
       "      <td>4758.272727</td>\n",
       "      <td>2897.090909</td>\n",
       "      <td>4686.090909</td>\n",
       "    </tr>\n",
       "  </tbody>\n",
       "</table>\n",
       "</div>"
      ],
      "text/plain": [
       "       avila_adobe  firehouse_museum  chinese_american_museum  \\\n",
       "year                                                            \n",
       "2014  27776.250000      10778.166667              2108.666667   \n",
       "2015  26459.750000       6280.583333              2446.583333   \n",
       "2016  23398.666667       5386.083333              3107.000000   \n",
       "2017  22526.166667       5018.166667              3061.583333   \n",
       "2018  19791.636364       4758.272727              2897.090909   \n",
       "\n",
       "      america_tropical_interpretive_center  \n",
       "year                                        \n",
       "2014                           8076.416667  \n",
       "2015                           9045.666667  \n",
       "2016                           7201.833333  \n",
       "2017                           6323.333333  \n",
       "2018                           4686.090909  "
      ]
     },
     "execution_count": 92,
     "metadata": {},
     "output_type": "execute_result"
    }
   ],
   "source": [
    "t"
   ]
  },
  {
   "cell_type": "code",
   "execution_count": 215,
   "id": "c70c50a8-f81c-4193-8713-2d205b09d4ec",
   "metadata": {
    "tags": []
   },
   "outputs": [
    {
     "data": {
      "text/html": [
       "<style type=\"text/css\">\n",
       "#T_18e57_row0_col0, #T_18e57_row1_col0, #T_18e57_row2_col2, #T_18e57_row3_col1 {\n",
       "  background-color: #ff0000;\n",
       "  color: #f1f1f1;\n",
       "}\n",
       "#T_18e57_row0_col1 {\n",
       "  background-color: #ff2a00;\n",
       "  color: #f1f1f1;\n",
       "}\n",
       "#T_18e57_row0_col2 {\n",
       "  background-color: #ff8c00;\n",
       "  color: #f1f1f1;\n",
       "}\n",
       "#T_18e57_row0_col3 {\n",
       "  background-color: #ffa800;\n",
       "  color: #000000;\n",
       "}\n",
       "#T_18e57_row0_col4, #T_18e57_row1_col4, #T_18e57_row2_col0, #T_18e57_row3_col4 {\n",
       "  background-color: #ffff00;\n",
       "  color: #000000;\n",
       "}\n",
       "#T_18e57_row1_col1 {\n",
       "  background-color: #ffbf00;\n",
       "  color: #000000;\n",
       "}\n",
       "#T_18e57_row1_col2 {\n",
       "  background-color: #ffe500;\n",
       "  color: #000000;\n",
       "}\n",
       "#T_18e57_row1_col3 {\n",
       "  background-color: #fff400;\n",
       "  color: #000000;\n",
       "}\n",
       "#T_18e57_row2_col1 {\n",
       "  background-color: #ffa900;\n",
       "  color: #000000;\n",
       "}\n",
       "#T_18e57_row2_col3 {\n",
       "  background-color: #ff0b00;\n",
       "  color: #f1f1f1;\n",
       "}\n",
       "#T_18e57_row2_col4 {\n",
       "  background-color: #ff3500;\n",
       "  color: #f1f1f1;\n",
       "}\n",
       "#T_18e57_row3_col0 {\n",
       "  background-color: #ff3800;\n",
       "  color: #f1f1f1;\n",
       "}\n",
       "#T_18e57_row3_col2 {\n",
       "  background-color: #ff6c00;\n",
       "  color: #f1f1f1;\n",
       "}\n",
       "#T_18e57_row3_col3 {\n",
       "  background-color: #ff9f00;\n",
       "  color: #000000;\n",
       "}\n",
       "</style>\n",
       "<table id=\"T_18e57\">\n",
       "  <thead>\n",
       "    <tr>\n",
       "      <th class=\"index_name level0\" >year</th>\n",
       "      <th id=\"T_18e57_level0_col0\" class=\"col_heading level0 col0\" >2014</th>\n",
       "      <th id=\"T_18e57_level0_col1\" class=\"col_heading level0 col1\" >2015</th>\n",
       "      <th id=\"T_18e57_level0_col2\" class=\"col_heading level0 col2\" >2016</th>\n",
       "      <th id=\"T_18e57_level0_col3\" class=\"col_heading level0 col3\" >2017</th>\n",
       "      <th id=\"T_18e57_level0_col4\" class=\"col_heading level0 col4\" >2018</th>\n",
       "    </tr>\n",
       "  </thead>\n",
       "  <tbody>\n",
       "    <tr>\n",
       "      <th id=\"T_18e57_level0_row0\" class=\"row_heading level0 row0\" >avila_adobe</th>\n",
       "      <td id=\"T_18e57_row0_col0\" class=\"data row0 col0\" >27776.250000</td>\n",
       "      <td id=\"T_18e57_row0_col1\" class=\"data row0 col1\" >26459.750000</td>\n",
       "      <td id=\"T_18e57_row0_col2\" class=\"data row0 col2\" >23398.666667</td>\n",
       "      <td id=\"T_18e57_row0_col3\" class=\"data row0 col3\" >22526.166667</td>\n",
       "      <td id=\"T_18e57_row0_col4\" class=\"data row0 col4\" >19791.636364</td>\n",
       "    </tr>\n",
       "    <tr>\n",
       "      <th id=\"T_18e57_level0_row1\" class=\"row_heading level0 row1\" >firehouse_museum</th>\n",
       "      <td id=\"T_18e57_row1_col0\" class=\"data row1 col0\" >10778.166667</td>\n",
       "      <td id=\"T_18e57_row1_col1\" class=\"data row1 col1\" >6280.583333</td>\n",
       "      <td id=\"T_18e57_row1_col2\" class=\"data row1 col2\" >5386.083333</td>\n",
       "      <td id=\"T_18e57_row1_col3\" class=\"data row1 col3\" >5018.166667</td>\n",
       "      <td id=\"T_18e57_row1_col4\" class=\"data row1 col4\" >4758.272727</td>\n",
       "    </tr>\n",
       "    <tr>\n",
       "      <th id=\"T_18e57_level0_row2\" class=\"row_heading level0 row2\" >chinese_american_museum</th>\n",
       "      <td id=\"T_18e57_row2_col0\" class=\"data row2 col0\" >2108.666667</td>\n",
       "      <td id=\"T_18e57_row2_col1\" class=\"data row2 col1\" >2446.583333</td>\n",
       "      <td id=\"T_18e57_row2_col2\" class=\"data row2 col2\" >3107.000000</td>\n",
       "      <td id=\"T_18e57_row2_col3\" class=\"data row2 col3\" >3061.583333</td>\n",
       "      <td id=\"T_18e57_row2_col4\" class=\"data row2 col4\" >2897.090909</td>\n",
       "    </tr>\n",
       "    <tr>\n",
       "      <th id=\"T_18e57_level0_row3\" class=\"row_heading level0 row3\" >america_tropical_interpretive_center</th>\n",
       "      <td id=\"T_18e57_row3_col0\" class=\"data row3 col0\" >8076.416667</td>\n",
       "      <td id=\"T_18e57_row3_col1\" class=\"data row3 col1\" >9045.666667</td>\n",
       "      <td id=\"T_18e57_row3_col2\" class=\"data row3 col2\" >7201.833333</td>\n",
       "      <td id=\"T_18e57_row3_col3\" class=\"data row3 col3\" >6323.333333</td>\n",
       "      <td id=\"T_18e57_row3_col4\" class=\"data row3 col4\" >4686.090909</td>\n",
       "    </tr>\n",
       "  </tbody>\n",
       "</table>\n"
      ],
      "text/plain": [
       "<pandas.io.formats.style.Styler at 0x21008681210>"
      ]
     },
     "execution_count": 215,
     "metadata": {},
     "output_type": "execute_result"
    }
   ],
   "source": [
    "t.transpose().style.background_gradient(axis=1, cmap='autumn_r')\n",
    "# для avila_adobe,firehouse_museum,america_tropical_interpretive_center останні роки були не такі прибуткові с точки зору \n",
    "# кількості клієнтів, а для america_tropical_interpretive_center перші два роки були не такі прибуткові, а далі ліпше"
   ]
  },
  {
   "cell_type": "code",
   "execution_count": 94,
   "id": "b5677543-03d1-442b-a05c-87a68626b629",
   "metadata": {
    "tags": []
   },
   "outputs": [],
   "source": [
    "g= df.groupby('year')\\\n",
    ".agg({'avila_adobe':np.median,'firehouse_museum':np.median,'chinese_american_museum':np.median,'america_tropical_interpretive_center':np.median})"
   ]
  },
  {
   "cell_type": "code",
   "execution_count": 95,
   "id": "0b1f1992-9dce-45c6-84f7-1b265d993ca3",
   "metadata": {
    "tags": []
   },
   "outputs": [
    {
     "data": {
      "text/html": [
       "<style type=\"text/css\">\n",
       "#T_e37e5_row0_col0, #T_e37e5_row1_col0, #T_e37e5_row2_col3, #T_e37e5_row3_col1 {\n",
       "  background-color: #ff0000;\n",
       "  color: #f1f1f1;\n",
       "}\n",
       "#T_e37e5_row0_col1 {\n",
       "  background-color: #ff3b00;\n",
       "  color: #f1f1f1;\n",
       "}\n",
       "#T_e37e5_row0_col2 {\n",
       "  background-color: #ff8200;\n",
       "  color: #f1f1f1;\n",
       "}\n",
       "#T_e37e5_row0_col3 {\n",
       "  background-color: #ffa600;\n",
       "  color: #000000;\n",
       "}\n",
       "#T_e37e5_row0_col4, #T_e37e5_row1_col4, #T_e37e5_row2_col0, #T_e37e5_row3_col4 {\n",
       "  background-color: #ffff00;\n",
       "  color: #000000;\n",
       "}\n",
       "#T_e37e5_row1_col1 {\n",
       "  background-color: #ff5e00;\n",
       "  color: #f1f1f1;\n",
       "}\n",
       "#T_e37e5_row1_col2 {\n",
       "  background-color: #ffb600;\n",
       "  color: #000000;\n",
       "}\n",
       "#T_e37e5_row1_col3 {\n",
       "  background-color: #ffda00;\n",
       "  color: #000000;\n",
       "}\n",
       "#T_e37e5_row2_col1 {\n",
       "  background-color: #ff8400;\n",
       "  color: #f1f1f1;\n",
       "}\n",
       "#T_e37e5_row2_col2 {\n",
       "  background-color: #ff3800;\n",
       "  color: #f1f1f1;\n",
       "}\n",
       "#T_e37e5_row2_col4 {\n",
       "  background-color: #ff4e00;\n",
       "  color: #f1f1f1;\n",
       "}\n",
       "#T_e37e5_row3_col0 {\n",
       "  background-color: #ff3600;\n",
       "  color: #f1f1f1;\n",
       "}\n",
       "#T_e37e5_row3_col2 {\n",
       "  background-color: #ff7d00;\n",
       "  color: #f1f1f1;\n",
       "}\n",
       "#T_e37e5_row3_col3 {\n",
       "  background-color: #ff8a00;\n",
       "  color: #f1f1f1;\n",
       "}\n",
       "</style>\n",
       "<table id=\"T_e37e5\">\n",
       "  <thead>\n",
       "    <tr>\n",
       "      <th class=\"index_name level0\" >year</th>\n",
       "      <th id=\"T_e37e5_level0_col0\" class=\"col_heading level0 col0\" >2014</th>\n",
       "      <th id=\"T_e37e5_level0_col1\" class=\"col_heading level0 col1\" >2015</th>\n",
       "      <th id=\"T_e37e5_level0_col2\" class=\"col_heading level0 col2\" >2016</th>\n",
       "      <th id=\"T_e37e5_level0_col3\" class=\"col_heading level0 col3\" >2017</th>\n",
       "      <th id=\"T_e37e5_level0_col4\" class=\"col_heading level0 col4\" >2018</th>\n",
       "    </tr>\n",
       "  </thead>\n",
       "  <tbody>\n",
       "    <tr>\n",
       "      <th id=\"T_e37e5_level0_row0\" class=\"row_heading level0 row0\" >avila_adobe</th>\n",
       "      <td id=\"T_e37e5_row0_col0\" class=\"data row0 col0\" >27492.000000</td>\n",
       "      <td id=\"T_e37e5_row0_col1\" class=\"data row0 col1\" >25576.500000</td>\n",
       "      <td id=\"T_e37e5_row0_col2\" class=\"data row0 col2\" >23296.500000</td>\n",
       "      <td id=\"T_e37e5_row0_col3\" class=\"data row0 col3\" >22166.500000</td>\n",
       "      <td id=\"T_e37e5_row0_col4\" class=\"data row0 col4\" >19280.000000</td>\n",
       "    </tr>\n",
       "    <tr>\n",
       "      <th id=\"T_e37e5_level0_row1\" class=\"row_heading level0 row1\" >firehouse_museum</th>\n",
       "      <td id=\"T_e37e5_row1_col0\" class=\"data row1 col0\" >6119.500000</td>\n",
       "      <td id=\"T_e37e5_row1_col1\" class=\"data row1 col1\" >5568.000000</td>\n",
       "      <td id=\"T_e37e5_row1_col2\" class=\"data row1 col2\" >5049.500000</td>\n",
       "      <td id=\"T_e37e5_row1_col3\" class=\"data row1 col3\" >4842.000000</td>\n",
       "      <td id=\"T_e37e5_row1_col4\" class=\"data row1 col4\" >4622.000000</td>\n",
       "    </tr>\n",
       "    <tr>\n",
       "      <th id=\"T_e37e5_level0_row2\" class=\"row_heading level0 row2\" >chinese_american_museum</th>\n",
       "      <td id=\"T_e37e5_row2_col0\" class=\"data row2 col0\" >2050.000000</td>\n",
       "      <td id=\"T_e37e5_row2_col1\" class=\"data row2 col1\" >2375.500000</td>\n",
       "      <td id=\"T_e37e5_row2_col2\" class=\"data row2 col2\" >2577.000000</td>\n",
       "      <td id=\"T_e37e5_row2_col3\" class=\"data row2 col3\" >2726.500000</td>\n",
       "      <td id=\"T_e37e5_row2_col4\" class=\"data row2 col4\" >2518.000000</td>\n",
       "    </tr>\n",
       "    <tr>\n",
       "      <th id=\"T_e37e5_level0_row3\" class=\"row_heading level0 row3\" >america_tropical_interpretive_center</th>\n",
       "      <td id=\"T_e37e5_row3_col0\" class=\"data row3 col0\" >7742.500000</td>\n",
       "      <td id=\"T_e37e5_row3_col1\" class=\"data row3 col1\" >8569.000000</td>\n",
       "      <td id=\"T_e37e5_row3_col2\" class=\"data row3 col2\" >6669.000000</td>\n",
       "      <td id=\"T_e37e5_row3_col3\" class=\"data row3 col3\" >6478.000000</td>\n",
       "      <td id=\"T_e37e5_row3_col4\" class=\"data row3 col4\" >4694.000000</td>\n",
       "    </tr>\n",
       "  </tbody>\n",
       "</table>\n"
      ],
      "text/plain": [
       "<pandas.io.formats.style.Styler at 0x2107f115dd0>"
      ]
     },
     "execution_count": 95,
     "metadata": {},
     "output_type": "execute_result"
    }
   ],
   "source": [
    "g.transpose().style.background_gradient(axis=1, cmap='autumn_r')"
   ]
  },
  {
   "cell_type": "markdown",
   "id": "4c5f3900-429b-467b-96e4-d3959b872f91",
   "metadata": {},
   "source": [
    "так. при медіані значення меньші аніж з середніми, через виброси. Але ситуація не страшна, виброси є, але середнє\n",
    "значення ситуацію не змінює"
   ]
  },
  {
   "cell_type": "markdown",
   "id": "4fb8b885-4ea5-4e5e-bdbd-6ecb920c1497",
   "metadata": {},
   "source": [
    "Знайти мінімальну та максимальну кількість відвідувачів для кожного музею за 2018 рік "
   ]
  },
  {
   "cell_type": "code",
   "execution_count": 96,
   "id": "2b4c724e-4440-49dd-901b-2b3cd53ba02b",
   "metadata": {
    "tags": []
   },
   "outputs": [],
   "source": [
    "the_most_popular_msm = df.query('year==2018').groupby('year').agg({'firehouse_museum':['max','min'],'avila_adobe':['max','min'],'chinese_american_museum':['max','min'],'america_tropical_interpretive_center':['max','min']})"
   ]
  },
  {
   "cell_type": "code",
   "execution_count": 97,
   "id": "89e28950-180d-4196-8f6f-c676f30d9cbb",
   "metadata": {
    "tags": []
   },
   "outputs": [
    {
     "data": {
      "text/html": [
       "<div>\n",
       "<style scoped>\n",
       "    .dataframe tbody tr th:only-of-type {\n",
       "        vertical-align: middle;\n",
       "    }\n",
       "\n",
       "    .dataframe tbody tr th {\n",
       "        vertical-align: top;\n",
       "    }\n",
       "\n",
       "    .dataframe thead tr th {\n",
       "        text-align: left;\n",
       "    }\n",
       "</style>\n",
       "<table border=\"1\" class=\"dataframe\">\n",
       "  <thead>\n",
       "    <tr>\n",
       "      <th></th>\n",
       "      <th>year</th>\n",
       "      <th colspan=\"2\" halign=\"left\">firehouse_museum</th>\n",
       "      <th colspan=\"2\" halign=\"left\">avila_adobe</th>\n",
       "      <th colspan=\"2\" halign=\"left\">chinese_american_museum</th>\n",
       "      <th colspan=\"2\" halign=\"left\">america_tropical_interpretive_center</th>\n",
       "    </tr>\n",
       "    <tr>\n",
       "      <th></th>\n",
       "      <th></th>\n",
       "      <th>max</th>\n",
       "      <th>min</th>\n",
       "      <th>max</th>\n",
       "      <th>min</th>\n",
       "      <th>max</th>\n",
       "      <th>min</th>\n",
       "      <th>max</th>\n",
       "      <th>min</th>\n",
       "    </tr>\n",
       "  </thead>\n",
       "  <tbody>\n",
       "    <tr>\n",
       "      <th>0</th>\n",
       "      <td>2018</td>\n",
       "      <td>8013</td>\n",
       "      <td>3306</td>\n",
       "      <td>25173</td>\n",
       "      <td>14718</td>\n",
       "      <td>4960</td>\n",
       "      <td>2146</td>\n",
       "      <td>5837</td>\n",
       "      <td>3180</td>\n",
       "    </tr>\n",
       "  </tbody>\n",
       "</table>\n",
       "</div>"
      ],
      "text/plain": [
       "   year firehouse_museum       avila_adobe        chinese_american_museum  \\\n",
       "                     max   min         max    min                     max   \n",
       "0  2018             8013  3306       25173  14718                    4960   \n",
       "\n",
       "        america_tropical_interpretive_center        \n",
       "    min                                  max   min  \n",
       "0  2146                                 5837  3180  "
      ]
     },
     "execution_count": 97,
     "metadata": {},
     "output_type": "execute_result"
    }
   ],
   "source": [
    "the_most_popular_msm.reset_index()"
   ]
  },
  {
   "cell_type": "markdown",
   "id": "780cdc74-5987-4a99-b07e-94ddd939933f",
   "metadata": {},
   "source": [
    "можемо взяти по роках. По роках в нас же була відповідь, але для кожного музею своя, зараз же ми зробимо загальну"
   ]
  },
  {
   "cell_type": "code",
   "execution_count": 124,
   "id": "c88058fe-c783-4e3f-ace1-059f8bc41939",
   "metadata": {
    "tags": []
   },
   "outputs": [],
   "source": [
    "df['total_people'] = (df.avila_adobe) + (df.firehouse_museum) + (df.chinese_american_museum) + (df.america_tropical_interpretive_center)"
   ]
  },
  {
   "cell_type": "code",
   "execution_count": 105,
   "id": "3f52d3f2-443f-4acb-abb3-750afb01c895",
   "metadata": {
    "tags": []
   },
   "outputs": [
    {
     "data": {
      "text/html": [
       "<div>\n",
       "<style scoped>\n",
       "    .dataframe tbody tr th:only-of-type {\n",
       "        vertical-align: middle;\n",
       "    }\n",
       "\n",
       "    .dataframe tbody tr th {\n",
       "        vertical-align: top;\n",
       "    }\n",
       "\n",
       "    .dataframe thead th {\n",
       "        text-align: right;\n",
       "    }\n",
       "</style>\n",
       "<table border=\"1\" class=\"dataframe\">\n",
       "  <thead>\n",
       "    <tr style=\"text-align: right;\">\n",
       "      <th></th>\n",
       "      <th>total_people</th>\n",
       "    </tr>\n",
       "    <tr>\n",
       "      <th>year</th>\n",
       "      <th></th>\n",
       "    </tr>\n",
       "  </thead>\n",
       "  <tbody>\n",
       "    <tr>\n",
       "      <th>2014</th>\n",
       "      <td>584874</td>\n",
       "    </tr>\n",
       "    <tr>\n",
       "      <th>2015</th>\n",
       "      <td>530791</td>\n",
       "    </tr>\n",
       "    <tr>\n",
       "      <th>2016</th>\n",
       "      <td>469123</td>\n",
       "    </tr>\n",
       "    <tr>\n",
       "      <th>2017</th>\n",
       "      <td>443151</td>\n",
       "    </tr>\n",
       "    <tr>\n",
       "      <th>2018</th>\n",
       "      <td>353464</td>\n",
       "    </tr>\n",
       "  </tbody>\n",
       "</table>\n",
       "</div>"
      ],
      "text/plain": [
       "      total_people\n",
       "year              \n",
       "2014        584874\n",
       "2015        530791\n",
       "2016        469123\n",
       "2017        443151\n",
       "2018        353464"
      ]
     },
     "execution_count": 105,
     "metadata": {},
     "output_type": "execute_result"
    }
   ],
   "source": [
    "df.groupby('year').agg({'total_people':'sum'}).sort_values('total_people',ascending = False)\n",
    "# якщо ми зсумуємо кожен музей, то пожемо побачити, що сумарно все йде на спад. Якщо взяти окремо, то у всіх йде також на спад\n",
    "# поріавняно с минулими роками окрім chinese_american_museum"
   ]
  },
  {
   "cell_type": "markdown",
   "id": "1e45b07f-068a-4f74-8af2-ed019373c80d",
   "metadata": {
    "tags": []
   },
   "source": [
    "Порівняти кількість відвідувачів музею \"Avila Adobe\" у літні і зимові місяці 2018 року "
   ]
  },
  {
   "cell_type": "code",
   "execution_count": 107,
   "id": "b48f84fc-95ff-49bf-ab27-9365e18bc3f7",
   "metadata": {
    "tags": []
   },
   "outputs": [
    {
     "data": {
      "text/html": [
       "<div>\n",
       "<style scoped>\n",
       "    .dataframe tbody tr th:only-of-type {\n",
       "        vertical-align: middle;\n",
       "    }\n",
       "\n",
       "    .dataframe tbody tr th {\n",
       "        vertical-align: top;\n",
       "    }\n",
       "\n",
       "    .dataframe thead th {\n",
       "        text-align: right;\n",
       "    }\n",
       "</style>\n",
       "<table border=\"1\" class=\"dataframe\">\n",
       "  <thead>\n",
       "    <tr style=\"text-align: right;\">\n",
       "      <th></th>\n",
       "      <th>date</th>\n",
       "      <th>avila_adobe</th>\n",
       "      <th>firehouse_museum</th>\n",
       "      <th>chinese_american_museum</th>\n",
       "      <th>america_tropical_interpretive_center</th>\n",
       "      <th>year</th>\n",
       "      <th>month</th>\n",
       "      <th>month_name</th>\n",
       "      <th>total_people</th>\n",
       "    </tr>\n",
       "  </thead>\n",
       "  <tbody>\n",
       "    <tr>\n",
       "      <th>0</th>\n",
       "      <td>2014-01-01 00:01:00</td>\n",
       "      <td>24778</td>\n",
       "      <td>4486</td>\n",
       "      <td>1581</td>\n",
       "      <td>6602</td>\n",
       "      <td>2014</td>\n",
       "      <td>1</td>\n",
       "      <td>January</td>\n",
       "      <td>37447</td>\n",
       "    </tr>\n",
       "    <tr>\n",
       "      <th>1</th>\n",
       "      <td>2014-01-01 00:02:00</td>\n",
       "      <td>18976</td>\n",
       "      <td>4172</td>\n",
       "      <td>1785</td>\n",
       "      <td>5029</td>\n",
       "      <td>2014</td>\n",
       "      <td>1</td>\n",
       "      <td>January</td>\n",
       "      <td>29962</td>\n",
       "    </tr>\n",
       "    <tr>\n",
       "      <th>2</th>\n",
       "      <td>2014-01-01 00:03:00</td>\n",
       "      <td>25231</td>\n",
       "      <td>7082</td>\n",
       "      <td>3229</td>\n",
       "      <td>8129</td>\n",
       "      <td>2014</td>\n",
       "      <td>1</td>\n",
       "      <td>January</td>\n",
       "      <td>43671</td>\n",
       "    </tr>\n",
       "    <tr>\n",
       "      <th>3</th>\n",
       "      <td>2014-01-01 00:04:00</td>\n",
       "      <td>26989</td>\n",
       "      <td>6756</td>\n",
       "      <td>2129</td>\n",
       "      <td>2824</td>\n",
       "      <td>2014</td>\n",
       "      <td>1</td>\n",
       "      <td>January</td>\n",
       "      <td>38698</td>\n",
       "    </tr>\n",
       "    <tr>\n",
       "      <th>4</th>\n",
       "      <td>2014-01-01 00:05:00</td>\n",
       "      <td>36883</td>\n",
       "      <td>10858</td>\n",
       "      <td>3676</td>\n",
       "      <td>10694</td>\n",
       "      <td>2014</td>\n",
       "      <td>1</td>\n",
       "      <td>January</td>\n",
       "      <td>62111</td>\n",
       "    </tr>\n",
       "  </tbody>\n",
       "</table>\n",
       "</div>"
      ],
      "text/plain": [
       "                 date  avila_adobe  firehouse_museum  chinese_american_museum  \\\n",
       "0 2014-01-01 00:01:00        24778              4486                     1581   \n",
       "1 2014-01-01 00:02:00        18976              4172                     1785   \n",
       "2 2014-01-01 00:03:00        25231              7082                     3229   \n",
       "3 2014-01-01 00:04:00        26989              6756                     2129   \n",
       "4 2014-01-01 00:05:00        36883             10858                     3676   \n",
       "\n",
       "   america_tropical_interpretive_center  year  month month_name  total_people  \n",
       "0                                  6602  2014      1    January         37447  \n",
       "1                                  5029  2014      1    January         29962  \n",
       "2                                  8129  2014      1    January         43671  \n",
       "3                                  2824  2014      1    January         38698  \n",
       "4                                 10694  2014      1    January         62111  "
      ]
     },
     "execution_count": 107,
     "metadata": {},
     "output_type": "execute_result"
    }
   ],
   "source": [
    "df.head()"
   ]
  },
  {
   "cell_type": "code",
   "execution_count": 127,
   "id": "ef513a1b-9f9e-41b1-aa9e-602ec19a7353",
   "metadata": {
    "tags": []
   },
   "outputs": [],
   "source": [
    "df['month_name'] = df.date.dt.month_name()"
   ]
  },
  {
   "cell_type": "code",
   "execution_count": 130,
   "id": "be74c92b-6f9b-46a5-8aa4-4f46a3ab2eaf",
   "metadata": {
    "tags": []
   },
   "outputs": [
    {
     "data": {
      "text/html": [
       "<div>\n",
       "<style scoped>\n",
       "    .dataframe tbody tr th:only-of-type {\n",
       "        vertical-align: middle;\n",
       "    }\n",
       "\n",
       "    .dataframe tbody tr th {\n",
       "        vertical-align: top;\n",
       "    }\n",
       "\n",
       "    .dataframe thead th {\n",
       "        text-align: right;\n",
       "    }\n",
       "</style>\n",
       "<table border=\"1\" class=\"dataframe\">\n",
       "  <thead>\n",
       "    <tr style=\"text-align: right;\">\n",
       "      <th></th>\n",
       "      <th>total_people</th>\n",
       "    </tr>\n",
       "    <tr>\n",
       "      <th>month_name</th>\n",
       "      <th></th>\n",
       "    </tr>\n",
       "  </thead>\n",
       "  <tbody>\n",
       "    <tr>\n",
       "      <th>May</th>\n",
       "      <td>275278</td>\n",
       "    </tr>\n",
       "    <tr>\n",
       "      <th>July</th>\n",
       "      <td>249602</td>\n",
       "    </tr>\n",
       "    <tr>\n",
       "      <th>September</th>\n",
       "      <td>232982</td>\n",
       "    </tr>\n",
       "    <tr>\n",
       "      <th>August</th>\n",
       "      <td>219732</td>\n",
       "    </tr>\n",
       "    <tr>\n",
       "      <th>June</th>\n",
       "      <td>207199</td>\n",
       "    </tr>\n",
       "    <tr>\n",
       "      <th>October</th>\n",
       "      <td>202842</td>\n",
       "    </tr>\n",
       "    <tr>\n",
       "      <th>March</th>\n",
       "      <td>198769</td>\n",
       "    </tr>\n",
       "    <tr>\n",
       "      <th>April</th>\n",
       "      <td>193720</td>\n",
       "    </tr>\n",
       "    <tr>\n",
       "      <th>November</th>\n",
       "      <td>173094</td>\n",
       "    </tr>\n",
       "    <tr>\n",
       "      <th>January</th>\n",
       "      <td>160881</td>\n",
       "    </tr>\n",
       "    <tr>\n",
       "      <th>February</th>\n",
       "      <td>137899</td>\n",
       "    </tr>\n",
       "    <tr>\n",
       "      <th>December</th>\n",
       "      <td>129405</td>\n",
       "    </tr>\n",
       "  </tbody>\n",
       "</table>\n",
       "</div>"
      ],
      "text/plain": [
       "            total_people\n",
       "month_name              \n",
       "May               275278\n",
       "July              249602\n",
       "September         232982\n",
       "August            219732\n",
       "June              207199\n",
       "October           202842\n",
       "March             198769\n",
       "April             193720\n",
       "November          173094\n",
       "January           160881\n",
       "February          137899\n",
       "December          129405"
      ]
     },
     "execution_count": 130,
     "metadata": {},
     "output_type": "execute_result"
    }
   ],
   "source": [
    "df.groupby('month_name').agg({'total_people':'sum'}).sort_values('total_people',ascending=False)\n",
    "#якщо взяти саме місяці, то можемо побачити що зимові на самому низі. Більш теплі місяці - сама гарна відвідуваність "
   ]
  },
  {
   "cell_type": "markdown",
   "id": "2324e140-ffb7-4f04-b33d-0a626202fdba",
   "metadata": {
    "tags": []
   },
   "source": [
    "Знайти кореляцію між кількістю відвідувачів в кожному з музеїв  та датами у 2016 році "
   ]
  },
  {
   "cell_type": "code",
   "execution_count": 143,
   "id": "5e35cb6d-9a0d-4eec-83d0-942abb379be0",
   "metadata": {
    "tags": []
   },
   "outputs": [
    {
     "data": {
      "text/plain": [
       "<Axes: xlabel='date', ylabel='total_people'>"
      ]
     },
     "execution_count": 143,
     "metadata": {},
     "output_type": "execute_result"
    },
    {
     "data": {
      "image/png": "[encoded data removed]",
      "text/plain": [
       "<Figure size 640x480 with 1 Axes>"
      ]
     },
     "metadata": {},
     "output_type": "display_data"
    }
   ],
   "source": [
    "sns.scatterplot(data = df.query('year==2016'), x='date',y='total_people')\n",
    "# якщо взяти 16 рік, то ми не можемо побачити тут кореляції\n",
    "# на цьому прикладі ми не бачимо ніякох закономірності"
   ]
  },
  {
   "cell_type": "code",
   "execution_count": 142,
   "id": "454364b1-9ccc-4208-b91f-66b2fd6e6110",
   "metadata": {
    "tags": []
   },
   "outputs": [
    {
     "data": {
      "text/plain": [
       "<Axes: xlabel='month_name'>"
      ]
     },
     "execution_count": 142,
     "metadata": {},
     "output_type": "execute_result"
    },
    {
     "data": {
      "image/png": "[encoded data removed]",
      "text/plain": [
       "<Figure size 640x480 with 1 Axes>"
      ]
     },
     "metadata": {},
     "output_type": "display_data"
    }
   ],
   "source": [
    "df.query('year==2016').groupby('month_name').agg({'total_people':'sum'}).plot()\n",
    "#з цього можна зробити такий висновок, що кореляція не завжди є гарним показником, побудуємо звичайний лінійний графік та побачимо  залежність.\n",
    "#хоча на кореляції ми могли сказати що зв'язку ніякого немає, а він є"
   ]
  },
  {
   "cell_type": "code",
   "execution_count": 135,
   "id": "b3d6cf6d-f279-40a9-b0b5-6267fbe7297c",
   "metadata": {
    "tags": []
   },
   "outputs": [
    {
     "data": {
      "text/plain": [
       "<Axes: xlabel='date', ylabel='total_people'>"
      ]
     },
     "execution_count": 135,
     "metadata": {},
     "output_type": "execute_result"
    },
    {
     "data": {
      "image/png": "[encoded data removed]",
      "text/plain": [
       "<Figure size 640x480 with 1 Axes>"
      ]
     },
     "metadata": {},
     "output_type": "display_data"
    }
   ],
   "source": [
    "sns.scatterplot(data = df, x='date',y='total_people')\n",
    "#навіть коли візьмемо всі роки, то ми не будемо бачити кореляції тут"
   ]
  },
  {
   "cell_type": "markdown",
   "id": "5afe9d96-d7be-4430-b33d-21298af86769",
   "metadata": {},
   "source": [
    "Побудувати графік ліній для кожного музею, показуючи їхню відвідуваність протягом 2017 року."
   ]
  },
  {
   "cell_type": "code",
   "execution_count": 183,
   "id": "ea629c85-ebb5-45fb-9840-2df32060a7dd",
   "metadata": {
    "tags": []
   },
   "outputs": [
    {
     "data": {
      "text/plain": [
       "<matplotlib.legend.Legend at 0x21005d62b10>"
      ]
     },
     "execution_count": 183,
     "metadata": {},
     "output_type": "execute_result"
    },
    {
     "data": {
      "image/png": "[encoded data removed]",
      "text/plain": [
       "<Figure size 1000x300 with 1 Axes>"
      ]
     },
     "metadata": {},
     "output_type": "display_data"
    }
   ],
   "source": [
    "plt.figure(figsize=(10,3))\n",
    "df.query('year==2017').avila_adobe.plot()\n",
    "df.query('year==2017').firehouse_museum.plot()\n",
    "df.query('year==2017').chinese_american_museum.plot()\n",
    "df.query('year==2017').america_tropical_interpretive_center.plot()\n",
    "plt.legend(legend)"
   ]
  },
  {
   "cell_type": "code",
   "execution_count": 182,
   "id": "8697e3db-f522-41df-9a6b-085f2df82b13",
   "metadata": {
    "tags": []
   },
   "outputs": [],
   "source": [
    "legend = pd.Series(['firehouse_museum','avila_adobe','chinese_american_museum','america_tropical_interpretive_center'])"
   ]
  },
  {
   "cell_type": "markdown",
   "id": "809cbcf2-7a75-4637-ac3c-3062d9975b12",
   "metadata": {},
   "source": [
    "Гістограма відвідуваності за місяцями кожного музею. Вивести 4 графіки: за 2014, 2015, 2016, 2017 роки"
   ]
  },
  {
   "cell_type": "code",
   "execution_count": 210,
   "id": "fb3016fe-62a0-4754-8deb-5335e3ee0a93",
   "metadata": {
    "tags": []
   },
   "outputs": [
    {
     "data": {
      "text/html": [
       "<div>\n",
       "<style scoped>\n",
       "    .dataframe tbody tr th:only-of-type {\n",
       "        vertical-align: middle;\n",
       "    }\n",
       "\n",
       "    .dataframe tbody tr th {\n",
       "        vertical-align: top;\n",
       "    }\n",
       "\n",
       "    .dataframe thead th {\n",
       "        text-align: right;\n",
       "    }\n",
       "</style>\n",
       "<table border=\"1\" class=\"dataframe\">\n",
       "  <thead>\n",
       "    <tr style=\"text-align: right;\">\n",
       "      <th></th>\n",
       "      <th></th>\n",
       "      <th>avila_adobe</th>\n",
       "    </tr>\n",
       "    <tr>\n",
       "      <th>year</th>\n",
       "      <th>month_name</th>\n",
       "      <th></th>\n",
       "    </tr>\n",
       "  </thead>\n",
       "  <tbody>\n",
       "    <tr>\n",
       "      <th>2015</th>\n",
       "      <th>July</th>\n",
       "      <td>41242</td>\n",
       "    </tr>\n",
       "    <tr>\n",
       "      <th rowspan=\"2\" valign=\"top\">2014</th>\n",
       "      <th>August</th>\n",
       "      <td>37680</td>\n",
       "    </tr>\n",
       "    <tr>\n",
       "      <th>May</th>\n",
       "      <td>36883</td>\n",
       "    </tr>\n",
       "    <tr>\n",
       "      <th>2015</th>\n",
       "      <th>May</th>\n",
       "      <td>34383</td>\n",
       "    </tr>\n",
       "    <tr>\n",
       "      <th>2014</th>\n",
       "      <th>July</th>\n",
       "      <td>32378</td>\n",
       "    </tr>\n",
       "  </tbody>\n",
       "</table>\n",
       "</div>"
      ],
      "text/plain": [
       "                 avila_adobe\n",
       "year month_name             \n",
       "2015 July              41242\n",
       "2014 August            37680\n",
       "     May               36883\n",
       "2015 May               34383\n",
       "2014 July              32378"
      ]
     },
     "execution_count": 210,
     "metadata": {},
     "output_type": "execute_result"
    }
   ],
   "source": [
    "df.groupby(['year','month_name']).agg({'avila_adobe':'sum'})\\\n",
    "  .sort_values('avila_adobe',ascending=False).head()"
   ]
  },
  {
   "cell_type": "code",
   "execution_count": 212,
   "id": "7ad926dd-50dc-48f1-a313-4d363a2c3d8f",
   "metadata": {
    "tags": []
   },
   "outputs": [
    {
     "data": {
      "text/html": [
       "<div>\n",
       "<style scoped>\n",
       "    .dataframe tbody tr th:only-of-type {\n",
       "        vertical-align: middle;\n",
       "    }\n",
       "\n",
       "    .dataframe tbody tr th {\n",
       "        vertical-align: top;\n",
       "    }\n",
       "\n",
       "    .dataframe thead th {\n",
       "        text-align: right;\n",
       "    }\n",
       "</style>\n",
       "<table border=\"1\" class=\"dataframe\">\n",
       "  <thead>\n",
       "    <tr style=\"text-align: right;\">\n",
       "      <th></th>\n",
       "      <th></th>\n",
       "      <th>firehouse_museum</th>\n",
       "    </tr>\n",
       "    <tr>\n",
       "      <th>year</th>\n",
       "      <th>month_name</th>\n",
       "      <th></th>\n",
       "    </tr>\n",
       "  </thead>\n",
       "  <tbody>\n",
       "    <tr>\n",
       "      <th>2014</th>\n",
       "      <th>September</th>\n",
       "      <td>61192</td>\n",
       "    </tr>\n",
       "    <tr>\n",
       "      <th>2015</th>\n",
       "      <th>May</th>\n",
       "      <td>12528</td>\n",
       "    </tr>\n",
       "    <tr>\n",
       "      <th>2014</th>\n",
       "      <th>May</th>\n",
       "      <td>10858</td>\n",
       "    </tr>\n",
       "    <tr>\n",
       "      <th>2016</th>\n",
       "      <th>May</th>\n",
       "      <td>9315</td>\n",
       "    </tr>\n",
       "    <tr>\n",
       "      <th>2015</th>\n",
       "      <th>October</th>\n",
       "      <td>8882</td>\n",
       "    </tr>\n",
       "  </tbody>\n",
       "</table>\n",
       "</div>"
      ],
      "text/plain": [
       "                 firehouse_museum\n",
       "year month_name                  \n",
       "2014 September              61192\n",
       "2015 May                    12528\n",
       "2014 May                    10858\n",
       "2016 May                     9315\n",
       "2015 October                 8882"
      ]
     },
     "execution_count": 212,
     "metadata": {},
     "output_type": "execute_result"
    }
   ],
   "source": [
    "df.groupby(['year','month_name']).agg({'firehouse_museum':'sum'})\\\n",
    "  .sort_values('firehouse_museum',ascending=False).head()"
   ]
  },
  {
   "cell_type": "code",
   "execution_count": 213,
   "id": "bfbbca49-6c1a-413d-9927-4f4e51dcac40",
   "metadata": {
    "tags": []
   },
   "outputs": [
    {
     "data": {
      "text/html": [
       "<div>\n",
       "<style scoped>\n",
       "    .dataframe tbody tr th:only-of-type {\n",
       "        vertical-align: middle;\n",
       "    }\n",
       "\n",
       "    .dataframe tbody tr th {\n",
       "        vertical-align: top;\n",
       "    }\n",
       "\n",
       "    .dataframe thead th {\n",
       "        text-align: right;\n",
       "    }\n",
       "</style>\n",
       "<table border=\"1\" class=\"dataframe\">\n",
       "  <thead>\n",
       "    <tr style=\"text-align: right;\">\n",
       "      <th></th>\n",
       "      <th></th>\n",
       "      <th>chinese_american_museum</th>\n",
       "    </tr>\n",
       "    <tr>\n",
       "      <th>year</th>\n",
       "      <th>month_name</th>\n",
       "      <th></th>\n",
       "    </tr>\n",
       "  </thead>\n",
       "  <tbody>\n",
       "    <tr>\n",
       "      <th>2016</th>\n",
       "      <th>March</th>\n",
       "      <td>7702</td>\n",
       "    </tr>\n",
       "    <tr>\n",
       "      <th rowspan=\"2\" valign=\"top\">2017</th>\n",
       "      <th>March</th>\n",
       "      <td>5966</td>\n",
       "    </tr>\n",
       "    <tr>\n",
       "      <th>May</th>\n",
       "      <td>5585</td>\n",
       "    </tr>\n",
       "    <tr>\n",
       "      <th>2018</th>\n",
       "      <th>May</th>\n",
       "      <td>4960</td>\n",
       "    </tr>\n",
       "    <tr>\n",
       "      <th>2016</th>\n",
       "      <th>May</th>\n",
       "      <td>4565</td>\n",
       "    </tr>\n",
       "  </tbody>\n",
       "</table>\n",
       "</div>"
      ],
      "text/plain": [
       "                 chinese_american_museum\n",
       "year month_name                         \n",
       "2016 March                          7702\n",
       "2017 March                          5966\n",
       "     May                            5585\n",
       "2018 May                            4960\n",
       "2016 May                            4565"
      ]
     },
     "execution_count": 213,
     "metadata": {},
     "output_type": "execute_result"
    }
   ],
   "source": [
    "df.groupby(['year','month_name']).agg({'chinese_american_museum':'sum'})\\\n",
    "  .sort_values('chinese_american_museum',ascending=False).head()"
   ]
  },
  {
   "cell_type": "code",
   "execution_count": 214,
   "id": "2b382a44-7031-4c28-a1c7-d6f93556a83f",
   "metadata": {
    "tags": []
   },
   "outputs": [
    {
     "data": {
      "text/html": [
       "<div>\n",
       "<style scoped>\n",
       "    .dataframe tbody tr th:only-of-type {\n",
       "        vertical-align: middle;\n",
       "    }\n",
       "\n",
       "    .dataframe tbody tr th {\n",
       "        vertical-align: top;\n",
       "    }\n",
       "\n",
       "    .dataframe thead th {\n",
       "        text-align: right;\n",
       "    }\n",
       "</style>\n",
       "<table border=\"1\" class=\"dataframe\">\n",
       "  <thead>\n",
       "    <tr style=\"text-align: right;\">\n",
       "      <th></th>\n",
       "      <th></th>\n",
       "      <th>america_tropical_interpretive_center</th>\n",
       "    </tr>\n",
       "    <tr>\n",
       "      <th>year</th>\n",
       "      <th>month_name</th>\n",
       "      <th></th>\n",
       "    </tr>\n",
       "  </thead>\n",
       "  <tbody>\n",
       "    <tr>\n",
       "      <th>2014</th>\n",
       "      <th>July</th>\n",
       "      <td>13490</td>\n",
       "    </tr>\n",
       "    <tr>\n",
       "      <th rowspan=\"2\" valign=\"top\">2015</th>\n",
       "      <th>May</th>\n",
       "      <td>13207</td>\n",
       "    </tr>\n",
       "    <tr>\n",
       "      <th>October</th>\n",
       "      <td>12524</td>\n",
       "    </tr>\n",
       "    <tr>\n",
       "      <th>2016</th>\n",
       "      <th>July</th>\n",
       "      <td>12188</td>\n",
       "    </tr>\n",
       "    <tr>\n",
       "      <th>2015</th>\n",
       "      <th>August</th>\n",
       "      <td>12096</td>\n",
       "    </tr>\n",
       "  </tbody>\n",
       "</table>\n",
       "</div>"
      ],
      "text/plain": [
       "                 america_tropical_interpretive_center\n",
       "year month_name                                      \n",
       "2014 July                                       13490\n",
       "2015 May                                        13207\n",
       "     October                                    12524\n",
       "2016 July                                       12188\n",
       "2015 August                                     12096"
      ]
     },
     "execution_count": 214,
     "metadata": {},
     "output_type": "execute_result"
    }
   ],
   "source": [
    "df.groupby(['year','month_name']).agg({'america_tropical_interpretive_center':'sum'})\\\n",
    "  .sort_values('america_tropical_interpretive_center',ascending=False).head()"
   ]
  },
  {
   "cell_type": "markdown",
   "id": "04402c18-2293-455a-b901-75af81f04139",
   "metadata": {},
   "source": [
    "як ми можемо побачити,  що піки відвідуваності,як правило, відбуваються в теплі сезони преважно це літо і в більшості музеїв піки \n",
    "були в періоди 2014-2015 років."
   ]
  },
  {
   "cell_type": "code",
   "execution_count": null,
   "id": "c7b7343d-aa93-4411-a49d-5c9c057f3b52",
   "metadata": {},
   "outputs": [],
   "source": []
  }
 ],
 "metadata": {
  "kernelspec": {
   "display_name": "Python 3 (ipykernel)",
   "language": "python",
   "name": "python3"
  },
  "language_info": {
   "codemirror_mode": {
    "name": "ipython",
    "version": 3
   },
   "file_extension": ".py",
   "mimetype": "text/x-python",
   "name": "python",
   "nbconvert_exporter": "python",
   "pygments_lexer": "ipython3",
   "version": "3.11.5"
  }
 },
 "nbformat": 4,
 "nbformat_minor": 5
}
